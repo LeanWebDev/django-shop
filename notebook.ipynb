{
 "cells": [
  {
   "cell_type": "code",
   "execution_count": 4,
   "metadata": {},
   "outputs": [],
   "source": [
    "import stripe\n",
    "stripe.api_key = \"sk_test_l3YZQr5800opw307p3LI5qOZ005Xwr1jSX\""
   ]
  },
  {
   "cell_type": "code",
   "execution_count": 6,
   "metadata": {},
   "outputs": [
    {
     "data": {
      "text/plain": [
       "<PaymentIntent payment_intent id=pi_1GhGtiAD84NoMFoHqvrCDWzN at 0x102b79bf0> JSON: {\n",
       "  \"amount\": 10009807,\n",
       "  \"amount_capturable\": 0,\n",
       "  \"amount_received\": 0,\n",
       "  \"application\": null,\n",
       "  \"application_fee_amount\": null,\n",
       "  \"canceled_at\": null,\n",
       "  \"cancellation_reason\": null,\n",
       "  \"capture_method\": \"automatic\",\n",
       "  \"charges\": {\n",
       "    \"data\": [],\n",
       "    \"has_more\": false,\n",
       "    \"object\": \"list\",\n",
       "    \"total_count\": 0,\n",
       "    \"url\": \"/v1/charges?payment_intent=pi_1GhGtiAD84NoMFoHqvrCDWzN\"\n",
       "  },\n",
       "  \"client_secret\": \"pi_1GhGtiAD84NoMFoHqvrCDWzN_secret_4IYFevB5mQUzIrITBhOc4SGGp\",\n",
       "  \"confirmation_method\": \"automatic\",\n",
       "  \"created\": 1589123818,\n",
       "  \"currency\": \"usd\",\n",
       "  \"customer\": null,\n",
       "  \"description\": null,\n",
       "  \"id\": \"pi_1GhGtiAD84NoMFoHqvrCDWzN\",\n",
       "  \"invoice\": null,\n",
       "  \"last_payment_error\": null,\n",
       "  \"livemode\": false,\n",
       "  \"metadata\": {},\n",
       "  \"next_action\": null,\n",
       "  \"object\": \"payment_intent\",\n",
       "  \"on_behalf_of\": null,\n",
       "  \"payment_method\": null,\n",
       "  \"payment_method_options\": {\n",
       "    \"card\": {\n",
       "      \"installments\": null,\n",
       "      \"request_three_d_secure\": \"automatic\"\n",
       "    }\n",
       "  },\n",
       "  \"payment_method_types\": [\n",
       "    \"card\"\n",
       "  ],\n",
       "  \"receipt_email\": \"jenny.rosen@example.com\",\n",
       "  \"review\": null,\n",
       "  \"setup_future_usage\": null,\n",
       "  \"shipping\": null,\n",
       "  \"source\": null,\n",
       "  \"statement_descriptor\": null,\n",
       "  \"statement_descriptor_suffix\": null,\n",
       "  \"status\": \"requires_payment_method\",\n",
       "  \"transfer_data\": null,\n",
       "  \"transfer_group\": null\n",
       "}"
      ]
     },
     "execution_count": 6,
     "metadata": {},
     "output_type": "execute_result"
    }
   ],
   "source": [
    "stripe.PaymentIntent.create(\n",
    "  amount=10009807,\n",
    "  currency='usd',\n",
    "  payment_method_types=['card'],\n",
    "  receipt_email='jenny.rosen@example.com',\n",
    ")"
   ]
  }
 ],
 "metadata": {
  "kernelspec": {
   "display_name": "Python 3",
   "language": "python",
   "name": "python3"
  },
  "language_info": {
   "codemirror_mode": {
    "name": "ipython",
    "version": 3
   },
   "file_extension": ".py",
   "mimetype": "text/x-python",
   "name": "python",
   "nbconvert_exporter": "python",
   "pygments_lexer": "ipython3",
   "version": "3.7.7"
  }
 },
 "nbformat": 4,
 "nbformat_minor": 4
}
